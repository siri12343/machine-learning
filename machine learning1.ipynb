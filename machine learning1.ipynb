{
 "cells": [
  {
   "cell_type": "code",
   "execution_count": 5,
   "metadata": {},
   "outputs": [],
   "source": [
    "class calci:\n",
    "    def add(a,b):\n",
    "        return a+b\n",
    "    def mul(a,b):\n",
    "        return a*b\n",
    "    def div(a,b):\n",
    "        return a%b\n",
    "    def mod(a,b):\n",
    "        return a/b\n",
    "    def power(a,b):\n",
    "        return a**b\n",
    "    def floo(a,b):\n",
    "        return a//b\n",
    "    "
   ]
  },
  {
   "cell_type": "code",
   "execution_count": 6,
   "metadata": {},
   "outputs": [
    {
     "data": {
      "text/plain": [
       "7"
      ]
     },
     "execution_count": 6,
     "metadata": {},
     "output_type": "execute_result"
    }
   ],
   "source": [
    "calci.add(2,5)"
   ]
  },
  {
   "cell_type": "markdown",
   "metadata": {},
   "source": [
    "constructor\n",
    "- calling function without using object\n",
    "- types of cons:\n",
    "    - default cons\n",
    "    - parameterised cons"
   ]
  },
  {
   "cell_type": "code",
   "execution_count": 10,
   "metadata": {},
   "outputs": [
    {
     "name": "stdout",
     "output_type": "stream",
     "text": [
      "enter num1:8\n",
      "enter num2:2\n",
      "8 2\n",
      "10\n",
      "6\n",
      "16\n",
      "4.0\n"
     ]
    }
   ],
   "source": [
    "class calci:\n",
    "    def __init__(self,a,b):\n",
    "        self.num1=a\n",
    "        self.num2=b\n",
    "        print(self.num1,self.num2)\n",
    "    def add(self):\n",
    "        return self.num1+self.num2\n",
    "    def __sub__(self):\n",
    "        return self.num1 - self.num2\n",
    "    def __mul__(self):\n",
    "        return self.num1*self.num2\n",
    "    def __div__(self):\n",
    "        return self.num1/self.num2\n",
    "n1=int(input(\"enter num1:\"))\n",
    "n2=int(input(\"enter num2:\"))\n",
    "ca=calci(n1,n2)\n",
    "print(ca.add())\n",
    "print(ca.__sub__())\n",
    "print(ca.__mul__())\n",
    "print(ca.__div__())"
   ]
  },
  {
   "cell_type": "code",
   "execution_count": null,
   "metadata": {},
   "outputs": [],
   "source": []
  }
 ],
 "metadata": {
  "kernelspec": {
   "display_name": "Python 3",
   "language": "python",
   "name": "python3"
  },
  "language_info": {
   "codemirror_mode": {
    "name": "ipython",
    "version": 3
   },
   "file_extension": ".py",
   "mimetype": "text/x-python",
   "name": "python",
   "nbconvert_exporter": "python",
   "pygments_lexer": "ipython3",
   "version": "3.7.3"
  }
 },
 "nbformat": 4,
 "nbformat_minor": 2
}
